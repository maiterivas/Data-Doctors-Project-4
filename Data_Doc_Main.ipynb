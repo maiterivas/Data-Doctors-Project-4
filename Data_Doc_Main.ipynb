{
  "nbformat": 4,
  "nbformat_minor": 0,
  "metadata": {
    "colab": {
      "provenance": [],
      "collapsed_sections": []
    },
    "kernelspec": {
      "name": "python3",
      "display_name": "Python 3"
    },
    "language_info": {
      "name": "python"
    }
  },
  "cells": [
    {
      "cell_type": "code",
      "execution_count": 52,
      "metadata": {
        "id": "KXBqZh8iV_CH"
      },
      "outputs": [],
      "source": [
        "import pandas as pd\n",
        "%matplotlib inline\n",
        "from matplotlib import pyplot as plt\n",
        "from sklearn.datasets import make_classification\n",
        "import numpy as np\n",
        "from sklearn.ensemble import RandomForestClassifier\n",
        "from sklearn.model_selection import train_test_split\n",
        "from sklearn.preprocessing import StandardScaler\n",
        "from sklearn import tree\n",
        "from sklearn.tree import DecisionTreeClassifier\n",
        "from sklearn.metrics import confusion_matrix, classification_report\n",
        "from sklearn.preprocessing import OneHotEncoder\n",
        "from sklearn.metrics import accuracy_score\n",
        "import warnings\n",
        "warnings.filterwarnings(\"ignore\")"
      ]
    },
    {
      "cell_type": "code",
      "source": [
        "#load in the data \n",
        "file = \"one_hot_data.csv\"\n",
        "df = pd.read_csv(file)\n",
        "df.head()"
      ],
      "metadata": {
        "colab": {
          "base_uri": "https://localhost:8080/",
          "height": 386
        },
        "id": "a_32-4t7WMF5",
        "outputId": "757d9e36-e013-4aba-a8cd-9c90eb60e30c"
      },
      "execution_count": 47,
      "outputs": [
        {
          "output_type": "execute_result",
          "data": {
            "text/plain": [
              "   abdominal_pain  abnormal_menstruation  acidity  acute_liver_failure  \\\n",
              "0               0                      0        0                    0   \n",
              "1               0                      0        0                    0   \n",
              "2               0                      0        0                    0   \n",
              "3               0                      0        0                    0   \n",
              "4               0                      0        0                    0   \n",
              "\n",
              "   altered_sensorium  anxiety  back_pain  belly_pain  blackheads  \\\n",
              "0                  0        0          0           0           0   \n",
              "1                  0        0          0           0           0   \n",
              "2                  0        0          0           0           0   \n",
              "3                  0        0          0           0           0   \n",
              "4                  0        0          0           0           0   \n",
              "\n",
              "   bladder_discomfort  ...  watering_from_eyes  weakness_in_limbs  \\\n",
              "0                   0  ...                   0                  0   \n",
              "1                   0  ...                   0                  0   \n",
              "2                   0  ...                   0                  0   \n",
              "3                   0  ...                   0                  0   \n",
              "4                   0  ...                   0                  0   \n",
              "\n",
              "   weakness_of_one_body_side  weight_gain  weight_loss  yellow_crust_ooze  \\\n",
              "0                          0            0            0                  0   \n",
              "1                          0            0            0                  0   \n",
              "2                          0            0            0                  0   \n",
              "3                          0            0            0                  0   \n",
              "4                          0            0            0                  0   \n",
              "\n",
              "   yellow_urine  yellowing_of_eyes  yellowish_skin           Disease  \n",
              "0             0                  0               0  Fungal infection  \n",
              "1             0                  0               0  Fungal infection  \n",
              "2             0                  0               0  Fungal infection  \n",
              "3             0                  0               0  Fungal infection  \n",
              "4             0                  0               0  Fungal infection  \n",
              "\n",
              "[5 rows x 132 columns]"
            ],
            "text/html": [
              "\n",
              "  <div id=\"df-6c081480-f0a6-43c2-adb7-039d6b6893c6\">\n",
              "    <div class=\"colab-df-container\">\n",
              "      <div>\n",
              "<style scoped>\n",
              "    .dataframe tbody tr th:only-of-type {\n",
              "        vertical-align: middle;\n",
              "    }\n",
              "\n",
              "    .dataframe tbody tr th {\n",
              "        vertical-align: top;\n",
              "    }\n",
              "\n",
              "    .dataframe thead th {\n",
              "        text-align: right;\n",
              "    }\n",
              "</style>\n",
              "<table border=\"1\" class=\"dataframe\">\n",
              "  <thead>\n",
              "    <tr style=\"text-align: right;\">\n",
              "      <th></th>\n",
              "      <th>abdominal_pain</th>\n",
              "      <th>abnormal_menstruation</th>\n",
              "      <th>acidity</th>\n",
              "      <th>acute_liver_failure</th>\n",
              "      <th>altered_sensorium</th>\n",
              "      <th>anxiety</th>\n",
              "      <th>back_pain</th>\n",
              "      <th>belly_pain</th>\n",
              "      <th>blackheads</th>\n",
              "      <th>bladder_discomfort</th>\n",
              "      <th>...</th>\n",
              "      <th>watering_from_eyes</th>\n",
              "      <th>weakness_in_limbs</th>\n",
              "      <th>weakness_of_one_body_side</th>\n",
              "      <th>weight_gain</th>\n",
              "      <th>weight_loss</th>\n",
              "      <th>yellow_crust_ooze</th>\n",
              "      <th>yellow_urine</th>\n",
              "      <th>yellowing_of_eyes</th>\n",
              "      <th>yellowish_skin</th>\n",
              "      <th>Disease</th>\n",
              "    </tr>\n",
              "  </thead>\n",
              "  <tbody>\n",
              "    <tr>\n",
              "      <th>0</th>\n",
              "      <td>0</td>\n",
              "      <td>0</td>\n",
              "      <td>0</td>\n",
              "      <td>0</td>\n",
              "      <td>0</td>\n",
              "      <td>0</td>\n",
              "      <td>0</td>\n",
              "      <td>0</td>\n",
              "      <td>0</td>\n",
              "      <td>0</td>\n",
              "      <td>...</td>\n",
              "      <td>0</td>\n",
              "      <td>0</td>\n",
              "      <td>0</td>\n",
              "      <td>0</td>\n",
              "      <td>0</td>\n",
              "      <td>0</td>\n",
              "      <td>0</td>\n",
              "      <td>0</td>\n",
              "      <td>0</td>\n",
              "      <td>Fungal infection</td>\n",
              "    </tr>\n",
              "    <tr>\n",
              "      <th>1</th>\n",
              "      <td>0</td>\n",
              "      <td>0</td>\n",
              "      <td>0</td>\n",
              "      <td>0</td>\n",
              "      <td>0</td>\n",
              "      <td>0</td>\n",
              "      <td>0</td>\n",
              "      <td>0</td>\n",
              "      <td>0</td>\n",
              "      <td>0</td>\n",
              "      <td>...</td>\n",
              "      <td>0</td>\n",
              "      <td>0</td>\n",
              "      <td>0</td>\n",
              "      <td>0</td>\n",
              "      <td>0</td>\n",
              "      <td>0</td>\n",
              "      <td>0</td>\n",
              "      <td>0</td>\n",
              "      <td>0</td>\n",
              "      <td>Fungal infection</td>\n",
              "    </tr>\n",
              "    <tr>\n",
              "      <th>2</th>\n",
              "      <td>0</td>\n",
              "      <td>0</td>\n",
              "      <td>0</td>\n",
              "      <td>0</td>\n",
              "      <td>0</td>\n",
              "      <td>0</td>\n",
              "      <td>0</td>\n",
              "      <td>0</td>\n",
              "      <td>0</td>\n",
              "      <td>0</td>\n",
              "      <td>...</td>\n",
              "      <td>0</td>\n",
              "      <td>0</td>\n",
              "      <td>0</td>\n",
              "      <td>0</td>\n",
              "      <td>0</td>\n",
              "      <td>0</td>\n",
              "      <td>0</td>\n",
              "      <td>0</td>\n",
              "      <td>0</td>\n",
              "      <td>Fungal infection</td>\n",
              "    </tr>\n",
              "    <tr>\n",
              "      <th>3</th>\n",
              "      <td>0</td>\n",
              "      <td>0</td>\n",
              "      <td>0</td>\n",
              "      <td>0</td>\n",
              "      <td>0</td>\n",
              "      <td>0</td>\n",
              "      <td>0</td>\n",
              "      <td>0</td>\n",
              "      <td>0</td>\n",
              "      <td>0</td>\n",
              "      <td>...</td>\n",
              "      <td>0</td>\n",
              "      <td>0</td>\n",
              "      <td>0</td>\n",
              "      <td>0</td>\n",
              "      <td>0</td>\n",
              "      <td>0</td>\n",
              "      <td>0</td>\n",
              "      <td>0</td>\n",
              "      <td>0</td>\n",
              "      <td>Fungal infection</td>\n",
              "    </tr>\n",
              "    <tr>\n",
              "      <th>4</th>\n",
              "      <td>0</td>\n",
              "      <td>0</td>\n",
              "      <td>0</td>\n",
              "      <td>0</td>\n",
              "      <td>0</td>\n",
              "      <td>0</td>\n",
              "      <td>0</td>\n",
              "      <td>0</td>\n",
              "      <td>0</td>\n",
              "      <td>0</td>\n",
              "      <td>...</td>\n",
              "      <td>0</td>\n",
              "      <td>0</td>\n",
              "      <td>0</td>\n",
              "      <td>0</td>\n",
              "      <td>0</td>\n",
              "      <td>0</td>\n",
              "      <td>0</td>\n",
              "      <td>0</td>\n",
              "      <td>0</td>\n",
              "      <td>Fungal infection</td>\n",
              "    </tr>\n",
              "  </tbody>\n",
              "</table>\n",
              "<p>5 rows × 132 columns</p>\n",
              "</div>\n",
              "      <button class=\"colab-df-convert\" onclick=\"convertToInteractive('df-6c081480-f0a6-43c2-adb7-039d6b6893c6')\"\n",
              "              title=\"Convert this dataframe to an interactive table.\"\n",
              "              style=\"display:none;\">\n",
              "        \n",
              "  <svg xmlns=\"http://www.w3.org/2000/svg\" height=\"24px\"viewBox=\"0 0 24 24\"\n",
              "       width=\"24px\">\n",
              "    <path d=\"M0 0h24v24H0V0z\" fill=\"none\"/>\n",
              "    <path d=\"M18.56 5.44l.94 2.06.94-2.06 2.06-.94-2.06-.94-.94-2.06-.94 2.06-2.06.94zm-11 1L8.5 8.5l.94-2.06 2.06-.94-2.06-.94L8.5 2.5l-.94 2.06-2.06.94zm10 10l.94 2.06.94-2.06 2.06-.94-2.06-.94-.94-2.06-.94 2.06-2.06.94z\"/><path d=\"M17.41 7.96l-1.37-1.37c-.4-.4-.92-.59-1.43-.59-.52 0-1.04.2-1.43.59L10.3 9.45l-7.72 7.72c-.78.78-.78 2.05 0 2.83L4 21.41c.39.39.9.59 1.41.59.51 0 1.02-.2 1.41-.59l7.78-7.78 2.81-2.81c.8-.78.8-2.07 0-2.86zM5.41 20L4 18.59l7.72-7.72 1.47 1.35L5.41 20z\"/>\n",
              "  </svg>\n",
              "      </button>\n",
              "      \n",
              "  <style>\n",
              "    .colab-df-container {\n",
              "      display:flex;\n",
              "      flex-wrap:wrap;\n",
              "      gap: 12px;\n",
              "    }\n",
              "\n",
              "    .colab-df-convert {\n",
              "      background-color: #E8F0FE;\n",
              "      border: none;\n",
              "      border-radius: 50%;\n",
              "      cursor: pointer;\n",
              "      display: none;\n",
              "      fill: #1967D2;\n",
              "      height: 32px;\n",
              "      padding: 0 0 0 0;\n",
              "      width: 32px;\n",
              "    }\n",
              "\n",
              "    .colab-df-convert:hover {\n",
              "      background-color: #E2EBFA;\n",
              "      box-shadow: 0px 1px 2px rgba(60, 64, 67, 0.3), 0px 1px 3px 1px rgba(60, 64, 67, 0.15);\n",
              "      fill: #174EA6;\n",
              "    }\n",
              "\n",
              "    [theme=dark] .colab-df-convert {\n",
              "      background-color: #3B4455;\n",
              "      fill: #D2E3FC;\n",
              "    }\n",
              "\n",
              "    [theme=dark] .colab-df-convert:hover {\n",
              "      background-color: #434B5C;\n",
              "      box-shadow: 0px 1px 3px 1px rgba(0, 0, 0, 0.15);\n",
              "      filter: drop-shadow(0px 1px 2px rgba(0, 0, 0, 0.3));\n",
              "      fill: #FFFFFF;\n",
              "    }\n",
              "  </style>\n",
              "\n",
              "      <script>\n",
              "        const buttonEl =\n",
              "          document.querySelector('#df-6c081480-f0a6-43c2-adb7-039d6b6893c6 button.colab-df-convert');\n",
              "        buttonEl.style.display =\n",
              "          google.colab.kernel.accessAllowed ? 'block' : 'none';\n",
              "\n",
              "        async function convertToInteractive(key) {\n",
              "          const element = document.querySelector('#df-6c081480-f0a6-43c2-adb7-039d6b6893c6');\n",
              "          const dataTable =\n",
              "            await google.colab.kernel.invokeFunction('convertToInteractive',\n",
              "                                                     [key], {});\n",
              "          if (!dataTable) return;\n",
              "\n",
              "          const docLinkHtml = 'Like what you see? Visit the ' +\n",
              "            '<a target=\"_blank\" href=https://colab.research.google.com/notebooks/data_table.ipynb>data table notebook</a>'\n",
              "            + ' to learn more about interactive tables.';\n",
              "          element.innerHTML = '';\n",
              "          dataTable['output_type'] = 'display_data';\n",
              "          await google.colab.output.renderOutput(dataTable, element);\n",
              "          const docLink = document.createElement('div');\n",
              "          docLink.innerHTML = docLinkHtml;\n",
              "          element.appendChild(docLink);\n",
              "        }\n",
              "      </script>\n",
              "    </div>\n",
              "  </div>\n",
              "  "
            ]
          },
          "metadata": {},
          "execution_count": 47
        }
      ]
    },
    {
      "cell_type": "code",
      "source": [
        "#find the unique symptoms \n",
        "df.columns.values"
      ],
      "metadata": {
        "colab": {
          "base_uri": "https://localhost:8080/"
        },
        "id": "_lRcLaHUWT9-",
        "outputId": "cb199ab8-7f57-4f28-9a32-8f15d09d8c25"
      },
      "execution_count": 45,
      "outputs": [
        {
          "output_type": "execute_result",
          "data": {
            "text/plain": [
              "array(['abdominal_pain', 'abnormal_menstruation', 'acidity',\n",
              "       'acute_liver_failure', 'altered_sensorium', 'anxiety', 'back_pain',\n",
              "       'belly_pain', 'blackheads', 'bladder_discomfort', 'blister',\n",
              "       'blood_in_sputum', 'bloody_stool', 'blurred_and_distorted_vision',\n",
              "       'breathlessness', 'brittle_nails', 'bruising',\n",
              "       'burning_micturition', 'chest_pain', 'chills',\n",
              "       'cold_hands_and_feets', 'coma', 'congestion', 'constipation',\n",
              "       'continuous_feel_of_urine', 'continuous_sneezing', 'cough',\n",
              "       'cramps', 'dark_urine', 'dehydration', 'depression', 'diarrhoea',\n",
              "       'dischromic_patches', 'distention_of_abdomen', 'dizziness',\n",
              "       'drying_and_tingling_lips', 'enlarged_thyroid', 'excessive_hunger',\n",
              "       'extra_marital_contacts', 'family_history', 'fast_heart_rate',\n",
              "       'fatigue', 'fluid_overload', 'foul_smell_of_urine', 'headache',\n",
              "       'high_fever', 'hip_joint_pain', 'history_of_alcohol_consumption',\n",
              "       'increased_appetite', 'indigestion', 'inflammatory_nails',\n",
              "       'internal_itching', 'irregular_sugar_level', 'irritability',\n",
              "       'irritation_in_anus', 'itching', 'joint_pain', 'knee_pain',\n",
              "       'lack_of_concentration', 'lethargy', 'loss_of_appetite',\n",
              "       'loss_of_balance', 'loss_of_smell', 'malaise', 'mild_fever',\n",
              "       'mood_swings', 'movement_stiffness', 'mucoid_sputum',\n",
              "       'muscle_pain', 'muscle_wasting', 'muscle_weakness', 'nausea',\n",
              "       'neck_pain', 'nodal_skin_eruptions', 'obesity',\n",
              "       'pain_behind_the_eyes', 'pain_during_bowel_movements',\n",
              "       'pain_in_anal_region', 'painful_walking', 'palpitations',\n",
              "       'passage_of_gases', 'patches_in_throat', 'phlegm', 'polyuria',\n",
              "       'prominent_veins_on_calf', 'puffy_face_and_eyes',\n",
              "       'pus_filled_pimples', 'receiving_blood_transfusion',\n",
              "       'receiving_unsterile_injections', 'red_sore_around_nose',\n",
              "       'red_spots_over_body', 'redness_of_eyes', 'restlessness',\n",
              "       'runny_nose', 'rusty_sputum', 'scurring', 'shivering',\n",
              "       'silver_like_dusting', 'sinus_pressure', 'skin_peeling',\n",
              "       'skin_rash', 'slurred_speech', 'small_dents_in_nails',\n",
              "       'spinning_movements', 'spotting_urination', 'stiff_neck',\n",
              "       'stomach_bleeding', 'stomach_pain', 'sunken_eyes', 'sweating',\n",
              "       'swelled_lymph_nodes', 'swelling_joints', 'swelling_of_stomach',\n",
              "       'swollen_blood_vessels', 'swollen_extremeties', 'swollen_legs',\n",
              "       'throat_irritation', 'toxic_look_(typhos)', 'ulcers_on_tongue',\n",
              "       'unsteadiness', 'visual_disturbances', 'vomiting',\n",
              "       'watering_from_eyes', 'weakness_in_limbs',\n",
              "       'weakness_of_one_body_side', 'weight_gain', 'weight_loss',\n",
              "       'yellow_crust_ooze', 'yellow_urine', 'yellowing_of_eyes',\n",
              "       'yellowish_skin', 'Disease'], dtype=object)"
            ]
          },
          "metadata": {},
          "execution_count": 45
        }
      ]
    },
    {
      "cell_type": "code",
      "source": [
        "#create a list of the unique symptoms \n",
        "symptoms = ['abdominal_pain', 'abnormal_menstruation', 'acidity',\n",
        "       'acute_liver_failure', 'altered_sensorium', 'anxiety', 'back_pain',\n",
        "       'belly_pain', 'blackheads', 'bladder_discomfort', 'blister',\n",
        "       'blood_in_sputum', 'bloody_stool', 'blurred_and_distorted_vision',\n",
        "       'breathlessness', 'brittle_nails', 'bruising',\n",
        "       'burning_micturition', 'chest_pain', 'chills',\n",
        "       'cold_hands_and_feets', 'coma', 'congestion', 'constipation',\n",
        "       'continuous_feel_of_urine', 'continuous_sneezing', 'cough',\n",
        "       'cramps', 'dark_urine', 'dehydration', 'depression', 'diarrhoea',\n",
        "       'dischromic_patches', 'distention_of_abdomen', 'dizziness',\n",
        "       'drying_and_tingling_lips', 'enlarged_thyroid', 'excessive_hunger',\n",
        "       'extra_marital_contacts', 'family_history', 'fast_heart_rate',\n",
        "       'fatigue', 'fluid_overload', 'foul_smell_of_urine', 'headache',\n",
        "       'high_fever', 'hip_joint_pain', 'history_of_alcohol_consumption',\n",
        "       'increased_appetite', 'indigestion', 'inflammatory_nails',\n",
        "       'internal_itching', 'irregular_sugar_level', 'irritability',\n",
        "       'irritation_in_anus', 'itching', 'joint_pain', 'knee_pain',\n",
        "       'lack_of_concentration', 'lethargy', 'loss_of_appetite',\n",
        "       'loss_of_balance', 'loss_of_smell', 'malaise', 'mild_fever',\n",
        "       'mood_swings', 'movement_stiffness', 'mucoid_sputum',\n",
        "       'muscle_pain', 'muscle_wasting', 'muscle_weakness', 'nausea',\n",
        "       'neck_pain', 'nodal_skin_eruptions', 'obesity',\n",
        "       'pain_behind_the_eyes', 'pain_during_bowel_movements',\n",
        "       'pain_in_anal_region', 'painful_walking', 'palpitations',\n",
        "       'passage_of_gases', 'patches_in_throat', 'phlegm', 'polyuria',\n",
        "       'prominent_veins_on_calf', 'puffy_face_and_eyes',\n",
        "       'pus_filled_pimples', 'receiving_blood_transfusion',\n",
        "       'receiving_unsterile_injections', 'red_sore_around_nose',\n",
        "       'red_spots_over_body', 'redness_of_eyes', 'restlessness',\n",
        "       'runny_nose', 'rusty_sputum', 'scurring', 'shivering',\n",
        "       'silver_like_dusting', 'sinus_pressure', 'skin_peeling',\n",
        "       'skin_rash', 'slurred_speech', 'small_dents_in_nails',\n",
        "       'spinning_movements', 'spotting_urination', 'stiff_neck',\n",
        "       'stomach_bleeding', 'stomach_pain', 'sunken_eyes', 'sweating',\n",
        "       'swelled_lymph_nodes', 'swelling_joints', 'swelling_of_stomach',\n",
        "       'swollen_blood_vessels', 'swollen_extremeties', 'swollen_legs',\n",
        "       'throat_irritation', 'toxic_look_(typhos)', 'ulcers_on_tongue',\n",
        "       'unsteadiness', 'visual_disturbances', 'vomiting',\n",
        "       'watering_from_eyes', 'weakness_in_limbs',\n",
        "       'weakness_of_one_body_side', 'weight_gain', 'weight_loss',\n",
        "       'yellow_crust_ooze', 'yellow_urine', 'yellowing_of_eyes',\n",
        "       'yellowish_skin']"
      ],
      "metadata": {
        "id": "EKcicfcR3ADA"
      },
      "execution_count": 4,
      "outputs": []
    },
    {
      "cell_type": "code",
      "source": [
        "#find the unique diseases \n",
        "print(df[\"Disease\"].unique())\n"
      ],
      "metadata": {
        "colab": {
          "base_uri": "https://localhost:8080/"
        },
        "id": "Sj8XvKn53JOC",
        "outputId": "f73375c3-396b-4bfd-9c53-1cecaf419852"
      },
      "execution_count": 5,
      "outputs": [
        {
          "output_type": "stream",
          "name": "stdout",
          "text": [
            "['Fungal infection' 'Allergy' 'GERD' 'Chronic cholestasis' 'Drug Reaction'\n",
            " 'Peptic ulcer diseae' 'AIDS' 'Diabetes ' 'Gastroenteritis'\n",
            " 'Bronchial Asthma' 'Hypertension ' 'Migraine' 'Cervical spondylosis'\n",
            " 'Paralysis (brain hemorrhage)' 'Jaundice' 'Malaria' 'Chicken pox'\n",
            " 'Dengue' 'Typhoid' 'hepatitis A' 'Hepatitis B' 'Hepatitis C'\n",
            " 'Hepatitis D' 'Hepatitis E' 'Alcoholic hepatitis' 'Tuberculosis'\n",
            " 'Common Cold' 'Pneumonia' 'Dimorphic hemmorhoids(piles)' 'Heart attack'\n",
            " 'Varicose veins' 'Hypothyroidism' 'Hyperthyroidism' 'Hypoglycemia'\n",
            " 'Osteoarthristis' 'Arthritis' '(vertigo) Paroymsal  Positional Vertigo'\n",
            " 'Acne' 'Urinary tract infection' 'Psoriasis' 'Impetigo']\n"
          ]
        }
      ]
    },
    {
      "cell_type": "code",
      "source": [
        "#create a list of the unique diseases \n",
        "disease = ['Fungal infection', 'Allergy', 'GERD', 'Chronic cholestasis', 'Drug Reaction',\n",
        " 'Peptic ulcer diseae', 'AIDS', 'Diabetes ', 'Gastroenteritis',\n",
        " 'Bronchial Asthma', 'Hypertension ', 'Migraine', 'Cervical spondylosis',\n",
        " 'Paralysis (brain hemorrhage)', 'Jaundice', 'Malaria', 'Chicken pox',\n",
        " 'Dengue', 'Typhoid', 'hepatitis A', 'Hepatitis B', 'Hepatitis C',\n",
        " 'Hepatitis D', 'Hepatitis E', 'Alcoholic hepatitis', 'Tuberculosis',\n",
        " 'Common Cold', 'Pneumonia', 'Dimorphic hemmorhoids(piles)', 'Heart attack',\n",
        " 'Varicose veins', 'Hypothyroidism', 'Hyperthyroidism', 'Hypoglycemia',\n",
        " 'Osteoarthristis', 'Arthritis', '(vertigo) Paroymsal  Positional Vertigo',\n",
        " 'Acne', 'Urinary tract infection', 'Psoriasis', 'Impetigo']"
      ],
      "metadata": {
        "id": "mKITOg96BO2y"
      },
      "execution_count": 6,
      "outputs": []
    },
    {
      "cell_type": "code",
      "source": [
        "#label encode the disease column \n",
        "\n",
        "df = df.replace({'Fungal infection':0, 'Allergy':1, 'GERD':2, 'Chronic cholestasis':3, 'Drug Reaction':4,\n",
        " 'Peptic ulcer diseae':5, 'AIDS':6, 'Diabetes ':7, 'Gastroenteritis':8,\n",
        " 'Bronchial Asthma':9, 'Hypertension ':10, 'Migraine':11, 'Cervical spondylosis':12,\n",
        " 'Paralysis (brain hemorrhage)':13, 'Jaundice':14, 'Malaria':15, 'Chicken pox':16,\n",
        " 'Dengue':17, 'Typhoid':18, 'hepatitis A':19, 'Hepatitis B':20, 'Hepatitis C':21,\n",
        " 'Hepatitis D':22, 'Hepatitis E':23, 'Alcoholic hepatitis':24, 'Tuberculosis':25,\n",
        " 'Common Cold':26, 'Pneumonia':27, 'Dimorphic hemmorhoids(piles)':28, 'Heart attack':29,\n",
        " 'Varicose veins':30, 'Hypothyroidism':31, 'Hyperthyroidism':32, 'Hypoglycemia':33,\n",
        " 'Osteoarthristis':34, 'Arthritis':35, '(vertigo) Paroymsal  Positional Vertigo':36,\n",
        " 'Acne':37, 'Urinary tract infection':38, 'Psoriasis':39, 'Impetigo':40})"
      ],
      "metadata": {
        "id": "gU0-99sIB0u9"
      },
      "execution_count": 7,
      "outputs": []
    },
    {
      "cell_type": "code",
      "source": [
        "X= df[symptoms]\n",
        "\n",
        "y = df[[\"Disease\"]]\n",
        "\n",
        "y = np.ravel(y)"
      ],
      "metadata": {
        "id": "snE4Tb23C3yw"
      },
      "execution_count": 8,
      "outputs": []
    },
    {
      "cell_type": "code",
      "source": [
        "X_train, X_test, y_train, y_test = train_test_split(X, y, random_state=1)"
      ],
      "metadata": {
        "id": "vywphrQakp85"
      },
      "execution_count": 9,
      "outputs": []
    },
    {
      "cell_type": "code",
      "source": [
        "#test the decision tree classifier \n",
        "clf = DecisionTreeClassifier().fit(X_train, y_train)\n",
        "y_pred = clf.predict(X_test)\n",
        "print(f'Training Score: {clf.score(X_train, y_train)}')\n",
        "print(f'Testing Score: {clf.score(X_test, y_test)}')"
      ],
      "metadata": {
        "colab": {
          "base_uri": "https://localhost:8080/"
        },
        "id": "SVivVSGZktfR",
        "outputId": "f7013759-3c64-45e0-fabd-a57bcc31939e"
      },
      "execution_count": 10,
      "outputs": [
        {
          "output_type": "stream",
          "name": "stdout",
          "text": [
            "Training Score: 1.0\n",
            "Testing Score: 1.0\n"
          ]
        }
      ]
    },
    {
      "cell_type": "code",
      "source": [
        "# Train test split using X_train, y_train dummies from above, and scale \n",
        "X_train, X_test, y_train, y_test = train_test_split(X_train, y_train, random_state=1)"
      ],
      "metadata": {
        "id": "VMMNj9bQDv27"
      },
      "execution_count": 11,
      "outputs": []
    },
    {
      "cell_type": "code",
      "source": [
        "#test the decision tree classifier \n",
        "clf = DecisionTreeClassifier().fit(X_train, y_train)\n",
        "y_pred = clf.predict(X_test)\n",
        "print(f'Training Score: {clf.score(X_train, y_train)}')\n",
        "print(f'Testing Score: {clf.score(X_test, y_test)}')"
      ],
      "metadata": {
        "colab": {
          "base_uri": "https://localhost:8080/"
        },
        "id": "M-8BDd2MOtcq",
        "outputId": "27a31c03-2bba-4aba-96e3-ff2686ea2e84"
      },
      "execution_count": 12,
      "outputs": [
        {
          "output_type": "stream",
          "name": "stdout",
          "text": [
            "Training Score: 1.0\n",
            "Testing Score: 1.0\n"
          ]
        }
      ]
    },
    {
      "cell_type": "code",
      "source": [
        "#test the random forest classifier \n",
        "forest = RandomForestClassifier(random_state=1, n_estimators=40).fit(X_train, y_train)\n",
        "print(f'Training Score: {forest.score(X_train, y_train)}')\n",
        "print(f'Testing Score: {forest.score(X_test, y_test)}')"
      ],
      "metadata": {
        "colab": {
          "base_uri": "https://localhost:8080/"
        },
        "id": "6zWgYSWSECmv",
        "outputId": "7ead55a5-ad55-43de-b782-4aebf29f08f0"
      },
      "execution_count": 13,
      "outputs": [
        {
          "output_type": "stream",
          "name": "stdout",
          "text": [
            "Training Score: 1.0\n",
            "Testing Score: 1.0\n"
          ]
        }
      ]
    },
    {
      "cell_type": "code",
      "source": [
        "forest_predict = forest.predict(X_test)"
      ],
      "metadata": {
        "id": "fiP01gVvFY4c"
      },
      "execution_count": 14,
      "outputs": []
    },
    {
      "cell_type": "code",
      "source": [
        "print(f'accuracy_score: {round(accuracy_score(y_test, forest_predict),2)*100} %')\n"
      ],
      "metadata": {
        "colab": {
          "base_uri": "https://localhost:8080/"
        },
        "id": "dytSDL-AFZqd",
        "outputId": "ed4d46dc-71ba-4450-99bc-e232bf1df56d"
      },
      "execution_count": 15,
      "outputs": [
        {
          "output_type": "stream",
          "name": "stdout",
          "text": [
            "accuracy_score: 100.0 %\n"
          ]
        }
      ]
    },
    {
      "cell_type": "code",
      "source": [
        "def prediction(data):\n",
        "    result=[]\n",
        "    for i in range(0,len(symptoms)):\n",
        "      result.append(0)\n",
        "    for i in range(0,len(symptoms)):\n",
        "        for k in data:\n",
        "            if(k==symptoms[i]):\n",
        "                result[i]=1\n",
        "    labels = [result]\n",
        "    predict = forest.predict(labels)\n",
        "    predicted=predict[0]\n",
        "    for a in range(0,len(disease)):\n",
        "        if(predicted == a):\n",
        "            done = 'yes'\n",
        "            break\n",
        "    if (done == 'yes'):\n",
        "        print(disease[a])\n",
        "    else:\n",
        "        print(\"Sorry, your symptoms did not match any prognoses in our database. Please consult your physician.\")"
      ],
      "metadata": {
        "id": "Bb1ElIv9EZQ1"
      },
      "execution_count": 40,
      "outputs": []
    },
    {
      "cell_type": "markdown",
      "source": [
        "Below we test the validity of the predictor function by running different combinations of symptoms and ensuring that the output is consistent with what is expected. "
      ],
      "metadata": {
        "id": "P-Q3FANuq7JG"
      }
    },
    {
      "cell_type": "code",
      "source": [
        "data={\"vomiting\",\"sunken_eyes\",'dehydration'}\n",
        "prediction(data)"
      ],
      "metadata": {
        "colab": {
          "base_uri": "https://localhost:8080/"
        },
        "id": "_e1woKC0GkRF",
        "outputId": "1f185552-3e3f-4c57-e92c-e89a0c2b4a18"
      },
      "execution_count": 53,
      "outputs": [
        {
          "output_type": "stream",
          "name": "stdout",
          "text": [
            "Gastroenteritis\n"
          ]
        }
      ]
    },
    {
      "cell_type": "code",
      "source": [
        "data = {'fatigue', 'cough', 'high_fever', 'mucoid_sputum'}\n",
        "prediction(data)"
      ],
      "metadata": {
        "colab": {
          "base_uri": "https://localhost:8080/"
        },
        "id": "_sHDBrdQX5zz",
        "outputId": "b5ed1ff1-eb24-4ba0-b827-f5588bc0da33"
      },
      "execution_count": 54,
      "outputs": [
        {
          "output_type": "stream",
          "name": "stdout",
          "text": [
            "Bronchial Asthma\n"
          ]
        }
      ]
    },
    {
      "cell_type": "code",
      "source": [
        "data = {'dizziness', 'loss_of_balance', 'lack_of_concentration'}\n",
        "prediction(data)"
      ],
      "metadata": {
        "colab": {
          "base_uri": "https://localhost:8080/"
        },
        "id": "np0z_roRYDOa",
        "outputId": "198a99aa-d3a5-42f9-f4f7-037f3b96a351"
      },
      "execution_count": 55,
      "outputs": [
        {
          "output_type": "stream",
          "name": "stdout",
          "text": [
            "Hypertension \n"
          ]
        }
      ]
    },
    {
      "cell_type": "code",
      "source": [
        " data = {'dischromic_patches','nodal_skin_eruptions', 'skin_rash'}\n",
        " prediction(data)"
      ],
      "metadata": {
        "colab": {
          "base_uri": "https://localhost:8080/"
        },
        "id": "H8AvJIFgYRh0",
        "outputId": "8878a127-fe03-4882-a509-a8b45f615295"
      },
      "execution_count": 56,
      "outputs": [
        {
          "output_type": "stream",
          "name": "stdout",
          "text": [
            "Fungal infection\n"
          ]
        }
      ]
    },
    {
      "cell_type": "code",
      "source": [
        "data = {'stomach_pain','acidity', 'ulcers_on_tongue'}\n",
        "prediction(data)"
      ],
      "metadata": {
        "colab": {
          "base_uri": "https://localhost:8080/"
        },
        "id": "c_omZSaEYcIp",
        "outputId": "261f9b8a-bba0-4df1-952c-a8e84d6d272a"
      },
      "execution_count": 57,
      "outputs": [
        {
          "output_type": "stream",
          "name": "stdout",
          "text": [
            "GERD\n"
          ]
        }
      ]
    },
    {
      "cell_type": "code",
      "source": [
        "data = {'itching','vomiting', 'yellowish_skin','nausea', 'abdominal_pain','yellowing_of_eyes'}\n",
        "prediction(data)"
      ],
      "metadata": {
        "colab": {
          "base_uri": "https://localhost:8080/"
        },
        "id": "s4z9HVovnZ2k",
        "outputId": "359ca108-5836-4ff0-ffc9-67bf872828e9"
      },
      "execution_count": 58,
      "outputs": [
        {
          "output_type": "stream",
          "name": "stdout",
          "text": [
            "Chronic cholestasis\n"
          ]
        }
      ]
    },
    {
      "cell_type": "code",
      "source": [
        "data = {'itching','skin_rash', 'burning_micturition','spotting_ urination', 'burning_micturition'}\n",
        "prediction(data)"
      ],
      "metadata": {
        "colab": {
          "base_uri": "https://localhost:8080/"
        },
        "id": "bBZ0-8RNnwCG",
        "outputId": "35764d51-10a3-4a8b-b77c-f5b720bad2b6"
      },
      "execution_count": 59,
      "outputs": [
        {
          "output_type": "stream",
          "name": "stdout",
          "text": [
            "Drug Reaction\n"
          ]
        }
      ]
    },
    {
      "cell_type": "code",
      "source": [
        "data = {\"breathlessness\", \"dizziness\", \"fatigue\"}\n",
        "prediction(data)"
      ],
      "metadata": {
        "colab": {
          "base_uri": "https://localhost:8080/"
        },
        "id": "lOtUzb4EoEd4",
        "outputId": "edf6d732-9015-4a38-a3ef-7cae0bf51445"
      },
      "execution_count": 60,
      "outputs": [
        {
          "output_type": "stream",
          "name": "stdout",
          "text": [
            "Heart attack\n"
          ]
        }
      ]
    },
    {
      "cell_type": "code",
      "source": [
        "data = {\"joint_pain\"}\n",
        "prediction(data)"
      ],
      "metadata": {
        "colab": {
          "base_uri": "https://localhost:8080/"
        },
        "id": "yfGADf8boek9",
        "outputId": "9504cfe3-8cf6-4387-e5cc-728c277cf3d8"
      },
      "execution_count": 61,
      "outputs": [
        {
          "output_type": "stream",
          "name": "stdout",
          "text": [
            "Osteoarthristis\n"
          ]
        }
      ]
    },
    {
      "cell_type": "code",
      "source": [
        "data = {\"back_pain\", \"weakness_in_limbs\", \"neck_pain\", \"dizziness\", \"loss_of_balance\"}\n",
        "prediction(data)"
      ],
      "metadata": {
        "colab": {
          "base_uri": "https://localhost:8080/"
        },
        "id": "gwjfVIztpY0c",
        "outputId": "3bbc575a-798f-4b6a-d348-71f700ec608f"
      },
      "execution_count": 62,
      "outputs": [
        {
          "output_type": "stream",
          "name": "stdout",
          "text": [
            "Cervical spondylosis\n"
          ]
        }
      ]
    },
    {
      "cell_type": "markdown",
      "source": [
        "Classification Report"
      ],
      "metadata": {
        "id": "gQcAEwRYtcgx"
      }
    },
    {
      "cell_type": "code",
      "source": [
        "from sklearn.metrics import confusion_matrix, classification_report\n",
        "classifier = forest\n",
        "y_true = y_test\n",
        "y_pred = classifier.predict(X_test)"
      ],
      "metadata": {
        "id": "48xgWfARtecG"
      },
      "execution_count": 50,
      "outputs": []
    },
    {
      "cell_type": "code",
      "source": [
        "print(classification_report(y_true, y_pred))"
      ],
      "metadata": {
        "colab": {
          "base_uri": "https://localhost:8080/"
        },
        "id": "f9k2ZxzWtxHI",
        "outputId": "5b7255fd-910a-4be7-a6bf-9833134820e7"
      },
      "execution_count": 51,
      "outputs": [
        {
          "output_type": "stream",
          "name": "stdout",
          "text": [
            "              precision    recall  f1-score   support\n",
            "\n",
            "           0       1.00      1.00      1.00        27\n",
            "           1       1.00      1.00      1.00        18\n",
            "           2       1.00      1.00      1.00        26\n",
            "           3       1.00      1.00      1.00        24\n",
            "           4       1.00      1.00      1.00        29\n",
            "           5       1.00      1.00      1.00        19\n",
            "           6       1.00      1.00      1.00        18\n",
            "           7       1.00      1.00      1.00        18\n",
            "           8       1.00      1.00      1.00        20\n",
            "           9       1.00      1.00      1.00        17\n",
            "          10       1.00      1.00      1.00        23\n",
            "          11       1.00      1.00      1.00        20\n",
            "          12       1.00      1.00      1.00        23\n",
            "          13       1.00      1.00      1.00        25\n",
            "          14       1.00      1.00      1.00        23\n",
            "          15       1.00      1.00      1.00        16\n",
            "          16       1.00      1.00      1.00        25\n",
            "          17       1.00      1.00      1.00        20\n",
            "          18       1.00      1.00      1.00        30\n",
            "          19       1.00      1.00      1.00        24\n",
            "          20       1.00      1.00      1.00        24\n",
            "          21       1.00      1.00      1.00        21\n",
            "          22       1.00      1.00      1.00        23\n",
            "          23       1.00      1.00      1.00        23\n",
            "          24       1.00      1.00      1.00        25\n",
            "          25       1.00      1.00      1.00        26\n",
            "          26       1.00      1.00      1.00        31\n",
            "          27       1.00      1.00      1.00        22\n",
            "          28       1.00      1.00      1.00        19\n",
            "          29       1.00      1.00      1.00        20\n",
            "          30       1.00      1.00      1.00        20\n",
            "          31       1.00      1.00      1.00        26\n",
            "          32       1.00      1.00      1.00        22\n",
            "          33       1.00      1.00      1.00        23\n",
            "          34       1.00      1.00      1.00        19\n",
            "          35       1.00      1.00      1.00        17\n",
            "          36       1.00      1.00      1.00        17\n",
            "          37       1.00      1.00      1.00        26\n",
            "          38       1.00      1.00      1.00        31\n",
            "          39       1.00      1.00      1.00        24\n",
            "          40       1.00      1.00      1.00        19\n",
            "\n",
            "    accuracy                           1.00       923\n",
            "   macro avg       1.00      1.00      1.00       923\n",
            "weighted avg       1.00      1.00      1.00       923\n",
            "\n"
          ]
        }
      ]
    }
  ]
}